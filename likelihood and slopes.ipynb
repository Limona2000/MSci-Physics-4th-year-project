{
 "cells": [
  {
   "cell_type": "code",
   "execution_count": 1,
   "id": "d174fca3",
   "metadata": {},
   "outputs": [],
   "source": [
    "import numpy as np\n",
    "import matplotlib.pyplot as plt"
   ]
  },
  {
   "cell_type": "code",
   "execution_count": 2,
   "id": "416a55ce",
   "metadata": {},
   "outputs": [],
   "source": [
    "def P(t,Z):   #stolen from appendix of Schoenrich and Bergemann, 2014\n",
    "    '''This function returns the combined \n",
    "    prior probability density of age and metallicity'''\n",
    "    if t>14.0:\n",
    "        return 0.0\n",
    "    elif 11.0<=t<=14.0:\n",
    "        return 1.0\n",
    "    elif t<11.0:\n",
    "        if Z<-0.9:\n",
    "            return np.exp((t-11.0)/2.0)  #vary the slopes\n",
    "        elif -0.9<=Z<=-0.5:\n",
    "            return np.exp((t-11.0)/(1.5+9.0*(0.9+Z)/0.4))\n",
    "        else:\n",
    "            return np.exp((t-11.0)/12.0)"
   ]
  },
  {
   "cell_type": "code",
   "execution_count": 3,
   "id": "1f0473f9",
   "metadata": {},
   "outputs": [],
   "source": [
    "def P2(t,Z):   #stolen from appendix of Schoenrich and Bergemann, 2014\n",
    "    '''This function returns the combined \n",
    "    prior probability density of age and metallicity'''\n",
    "    if t>14.0:\n",
    "        return 0.0\n",
    "    elif 11.0<=t<=14.0:\n",
    "        return 1.0\n",
    "    elif t<11.0:\n",
    "        if Z<-0.9:\n",
    "            return np.exp((t-11.0)/2.0)+0.5*np.exp(-(t-2.5)**2.0/2*4.0**2)  #vary the slopes\n",
    "        elif -0.9<=Z<=-0.5:\n",
    "            return np.exp((t-11.0)/(1.5+9.0*(0.9+Z)/0.4))+0.5*np.exp(-(t-2.5)**2.0/2*4.0**2)\n",
    "        else:\n",
    "            return np.exp((t-11.0)/12.0)+0.5*np.exp(-(t-2.5)**2.0/2*4.0**2)"
   ]
  },
  {
   "cell_type": "code",
   "execution_count": 4,
   "id": "bd055540",
   "metadata": {},
   "outputs": [],
   "source": [
    "from scipy.integrate import quad\n",
    "def integrand(Z, t):\n",
    "    return np.exp((t-11.0)/(1.5+(9.0*(0.9+Z)/0.4)))"
   ]
  },
  {
   "cell_type": "code",
   "execution_count": 5,
   "id": "0696b416",
   "metadata": {},
   "outputs": [],
   "source": [
    "Z=np.linspace(-4.0,1.0,100)"
   ]
  },
  {
   "cell_type": "code",
   "execution_count": 6,
   "id": "ae608d32",
   "metadata": {},
   "outputs": [],
   "source": [
    "age=np.linspace(0.0,14.0,100)"
   ]
  },
  {
   "cell_type": "code",
   "execution_count": 7,
   "id": "bb5e2394",
   "metadata": {},
   "outputs": [],
   "source": [
    "D=[]\n",
    "\n",
    "for i in range(0,len(age)):\n",
    "    if age[i]>14.0:\n",
    "        D.append(0.0)\n",
    "    if 11.0<=age[i]<=14.0:\n",
    "        D.append(1.0)\n",
    "    else:\n",
    "        D.append(np.exp((age[i]-11.0)/1.5)+np.exp((age[i]-11.0)/9.0)+quad(integrand,-0.9,-0.5,args=(age[i]))[0])"
   ]
  },
  {
   "cell_type": "code",
   "execution_count": 8,
   "id": "69f2d345",
   "metadata": {},
   "outputs": [],
   "source": [
    "D2=[]\n",
    "\n",
    "for i in range(0,len(age)):\n",
    "    if age[i]>14.0:\n",
    "        D2.append(0.0)\n",
    "    if 11.0<=age[i]<=14.0:\n",
    "        D2.append(1.0)\n",
    "    else:\n",
    "        D2.append(np.exp((age[i]-11.0)/1.5)+0.5*np.exp(-(age[i]-2.5)**2.0/2*4.0**2)+np.exp((age[i]-11.0)/9.0)+quad(integrand,-0.9,-0.5,args=(age[i]))[0])"
   ]
  },
  {
   "cell_type": "code",
   "execution_count": 9,
   "id": "43e27b9a",
   "metadata": {},
   "outputs": [
    {
     "data": {
      "text/plain": [
       "Text(0, 0.5, 'P')"
      ]
     },
     "execution_count": 9,
     "metadata": {},
     "output_type": "execute_result"
    },
    {
     "data": {
      "image/png": "[encoded data removed]",
      "text/plain": [
       "<Figure size 432x288 with 1 Axes>"
      ]
     },
     "metadata": {
      "needs_background": "light"
     },
     "output_type": "display_data"
    }
   ],
   "source": [
    "D=np.array(D,dtype=float)\n",
    "plt.scatter(age,D/D.max())\n",
    "plt.xlabel('Age/Gyr')\n",
    "plt.ylabel('P')"
   ]
  },
  {
   "cell_type": "code",
   "execution_count": 10,
   "id": "7cc0b188",
   "metadata": {},
   "outputs": [
    {
     "data": {
      "text/plain": [
       "Text(0, 0.5, 'P2')"
      ]
     },
     "execution_count": 10,
     "metadata": {},
     "output_type": "execute_result"
    },
    {
     "data": {
      "image/png": "[encoded data removed]",
      "text/plain": [
       "<Figure size 432x288 with 1 Axes>"
      ]
     },
     "metadata": {
      "needs_background": "light"
     },
     "output_type": "display_data"
    }
   ],
   "source": [
    "D2=np.array(D2,dtype=float)\n",
    "plt.scatter(age,D2/D2.max())\n",
    "plt.xlabel('Age/Gyr')\n",
    "plt.ylabel('P2')"
   ]
  },
  {
   "cell_type": "code",
   "execution_count": null,
   "id": "15d23b85",
   "metadata": {},
   "outputs": [],
   "source": []
  }
 ],
 "metadata": {
  "kernelspec": {
   "display_name": "Python 3 (ipykernel)",
   "language": "python",
   "name": "python3"
  },
  "language_info": {
   "codemirror_mode": {
    "name": "ipython",
    "version": 3
   },
   "file_extension": ".py",
   "mimetype": "text/x-python",
   "name": "python",
   "nbconvert_exporter": "python",
   "pygments_lexer": "ipython3",
   "version": "3.8.10"
  }
 },
 "nbformat": 4,
 "nbformat_minor": 5
}
